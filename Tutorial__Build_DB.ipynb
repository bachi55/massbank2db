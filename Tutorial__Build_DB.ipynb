{
 "cells": [
  {
   "cell_type": "code",
   "execution_count": 1,
   "metadata": {},
   "outputs": [],
   "source": [
    "%load_ext autoreload\n",
    "%autoreload 2"
   ]
  },
  {
   "cell_type": "code",
   "execution_count": 10,
   "metadata": {},
   "outputs": [],
   "source": [
    "import os\n",
    "import pandas as pd\n",
    "\n",
    "from massbank2db.db import MassbankDB"
   ]
  },
  {
   "cell_type": "markdown",
   "metadata": {},
   "source": [
    "# Tutorial: Build a local copy of MassBank\n",
    "\n",
    "This tutorial illustrates how to use this package to build a local MassBank database (DB) using SQLite. \n",
    "\n",
    "## Preparation \n",
    "\n",
    "- Download the MassBank data, e.g. by cloning the [MassBank repository](https://github.com/MassBank/MassBank-data) from GitHub. \n",
    "- Build a local copy of PubChem using the [pubchem2sqlite package](https://github.com/bachi55/local_pubchem_db) **[optional]**\n",
    "  - to homogenouse the Massbank structure information using PubChem\n",
    "  - to retrieve molecular candidate sets for the MassBank spectra\n",
    "\n",
    "**Please note:** This tutorial uses a [fork of Massbank](https://github.com/bachi55/MassBank-data/tree/fix_entry_format) where minor formatting issues have been fixed.\n",
    "\n",
    "## General Concept\n",
    "\n",
    "MassBank organizes their datasets by contributors (sub-directories in the MassBank root-directory) and each contributor additionally into accession prefixes, such as EA, KW, etc. In the ```massbank2db``` package, each (contributor, accession-prefix)-tuple is considered to be a separate dataset. That means, MassBank entries (or records) are added in chunks encompassing all spectra of a certain (contributor, accession-prefix)-tuple.\n",
    "\n",
    "Furthermore, each chunk is divided into sub-datasets based on the mass-spectrometry (MS) (including the ionization mode / polarity) and (liquid-)chromatographic (LC) configuration. Ultimately, we add spectra grouped as different datasets using the following scheme: \n",
    "```\n",
    "Example:\n",
    "    (AU, Athens_Univ)\n",
    "        -> AU_000  ~ positive, LC configuration 1, MS instrument 1\n",
    "        -> AU_001  ~ positive, LC configuration 2, MS instrument 1\n",
    "        -> AU_002  ~ negative, LC configuration 3, MS instrument 1\n",
    "        -> AU_003  ~ negative, LC configuration 4, MS instrument 2\n",
    "        -> ... \n",
    "    ...\n",
    "    (PR, RIKEN)\n",
    "        -> PR_000  ~ positive, LC configuration 1, MS instrument 1\n",
    "        -> PR_001  ~ negative, LC configuration 1, MS instrument 1\n",
    "    ...\n",
    "```\n",
    "The motivation behind this approach is, that ```massbank2db``` originates from a project where MS/MS-spectrum *and* retention time (RT) information was supposed to be used to *jointly* train a machine learning approach for small molecule identification. As RTs are not (directly) compareable between LC configurations, the spectra where grouped such that RT compareability was maximized within one dataset. The following SQLite statement was used to group MassBank entries associated with an (contributor accession-prefix)-tuple:\n",
    "```sql\n",
    "GROUP BY ion_mode, instrument, instrument_type, column_name, column_temperature, flow_gradient, flow_rate, solvent_A, solvent_B\n",
    "```\n",
    "\n",
    "However, nothing prevents the user from loading all spectra and RTs without considering the grouping imposed by the dataset."
   ]
  },
  {
   "cell_type": "markdown",
   "metadata": {},
   "source": [
    "## Building the Database\n",
    "\n",
    "First we get the list (contributors, accession-prefix)-tuples:"
   ]
  },
  {
   "cell_type": "code",
   "execution_count": 8,
   "metadata": {},
   "outputs": [
    {
     "data": {
      "text/html": [
       "<div>\n",
       "<style scoped>\n",
       "    .dataframe tbody tr th:only-of-type {\n",
       "        vertical-align: middle;\n",
       "    }\n",
       "\n",
       "    .dataframe tbody tr th {\n",
       "        vertical-align: top;\n",
       "    }\n",
       "\n",
       "    .dataframe thead th {\n",
       "        text-align: right;\n",
       "    }\n",
       "</style>\n",
       "<table border=\"1\" class=\"dataframe\">\n",
       "  <thead>\n",
       "    <tr style=\"text-align: right;\">\n",
       "      <th></th>\n",
       "      <th>Contributor</th>\n",
       "      <th>AccPref</th>\n",
       "    </tr>\n",
       "  </thead>\n",
       "  <tbody>\n",
       "    <tr>\n",
       "      <th>0</th>\n",
       "      <td>ACES_SU</td>\n",
       "      <td>AS</td>\n",
       "    </tr>\n",
       "    <tr>\n",
       "      <th>1</th>\n",
       "      <td>AAFC</td>\n",
       "      <td>AC</td>\n",
       "    </tr>\n",
       "    <tr>\n",
       "      <th>2</th>\n",
       "      <td>Athens_Univ</td>\n",
       "      <td>AU</td>\n",
       "    </tr>\n",
       "    <tr>\n",
       "      <th>3</th>\n",
       "      <td>BGC_Munich</td>\n",
       "      <td>RP</td>\n",
       "    </tr>\n",
       "    <tr>\n",
       "      <th>4</th>\n",
       "      <td>Boise_State_Univ</td>\n",
       "      <td>BSU</td>\n",
       "    </tr>\n",
       "  </tbody>\n",
       "</table>\n",
       "</div>"
      ],
      "text/plain": [
       "        Contributor AccPref\n",
       "0           ACES_SU      AS\n",
       "1              AAFC      AC\n",
       "2       Athens_Univ      AU\n",
       "3        BGC_Munich      RP\n",
       "4  Boise_State_Univ     BSU"
      ]
     },
     "execution_count": 8,
     "metadata": {},
     "output_type": "execute_result"
    }
   ],
   "source": [
    "massbank_dir = \"/run/media/bach/EVO500GB/data/MassBank\"\n",
    "mbds = pd.read_csv(os.path.join(massbank_dir, \"List_of_Contributors_Prefixes_and_Projects.md\"),\n",
    "                   sep=\"|\", skiprows=2, header=None) \\\n",
    "    .iloc[:, [1, 4]] \\\n",
    "    .applymap(str.strip) \\\n",
    "    .rename({1: \"Contributor\", 4: \"AccPref\"}, axis=1)  # type: pd.DataFrame\n",
    "\n",
    "mbds.head()"
   ]
  },
  {
   "cell_type": "markdown",
   "metadata": {},
   "source": [
    "Than we initialize the MassBank DB tables:"
   ]
  },
  {
   "cell_type": "code",
   "execution_count": 11,
   "metadata": {},
   "outputs": [],
   "source": [
    "mb_dbfn = \"massbank_example.sqlite\"\n",
    "with MassbankDB(mb_dbfn) as mbdb:\n",
    "    mbdb.initialize_tables(reset=True)"
   ]
  },
  {
   "cell_type": "markdown",
   "metadata": {},
   "source": [
    "Now we can insert the MassBank entries into the DB. Here are using three options of the MassbankDB object, that will be further explained:\n",
    "- ```use_pubchem_structure_info```: If True, the PubChem CIDs (if available) or the InChIKeys provided in the MassBank entries are used to query the compound structure information from PubChem and replace the information from MassBank with the ones from PubChem. In this way, we can ensure all SMILES structure representations have been determined using the same procedure (by PubChem). This is particularly relevant, if molecular descriptors or fingerprints should be calculated from the structures. \n",
    "- ```only_ms2```: If True, the DB will only contain MS/MS spectra (determined by ```AC$MASS_SPECTROMETRY: MS_TYPE MS2```). TODO: Currently, this also filters isotope pattern spectra, which might be useful in some applications. \n",
    "- ```only_with_rt```: If True, only spectra with retention time information are included in the DB."
   ]
  },
  {
   "cell_type": "code",
   "execution_count": 12,
   "metadata": {},
   "outputs": [
    {
     "name": "stdout",
     "output_type": "stream",
     "text": [
      "(01/48) ACES_SU: \n",
      "AS\n",
      "(02/48) AAFC: \n",
      "AC\n",
      "(03/48) Athens_Univ: \n",
      "AU\n",
      "(04/48) BGC_Munich: \n",
      "RP\n",
      "(05/48) Boise_State_Univ: \n",
      "BSU\n",
      "(06/48) BS: \n",
      "BS\n"
     ]
    },
    {
     "name": "stderr",
     "output_type": "stream",
     "text": [
      "[WARNING] massbank2db.spectrum : (BS001075) Multiple compounds (n=2) matching the InChIKey (IPCSVZSSVZVIGE-UHFFFAOYSA-N). Taking the one with the lowest CID to update the compound information.\n",
      "[WARNING] massbank2db.spectrum : (BS001077) Multiple compounds (n=2) matching the InChIKey (IPCSVZSSVZVIGE-UHFFFAOYSA-N). Taking the one with the lowest CID to update the compound information.\n",
      "[WARNING] massbank2db.spectrum : (BS003871) Multiple compounds (n=2) matching the InChIKey (GHVNFZFCNZKVNT-UHFFFAOYSA-N). Taking the one with the lowest CID to update the compound information.\n",
      "[WARNING] massbank2db.spectrum : (BS003869) Multiple compounds (n=2) matching the InChIKey (GHVNFZFCNZKVNT-UHFFFAOYSA-N). Taking the one with the lowest CID to update the compound information.\n",
      "[WARNING] massbank2db.spectrum : (BS001076) Multiple compounds (n=2) matching the InChIKey (IPCSVZSSVZVIGE-UHFFFAOYSA-N). Taking the one with the lowest CID to update the compound information.\n",
      "[WARNING] massbank2db.spectrum : (BS003128) Multiple compounds (n=2) matching the InChIKey (YGSDEFSMJLZEOE-UHFFFAOYSA-N). Taking the one with the lowest CID to update the compound information.\n"
     ]
    },
    {
     "name": "stdout",
     "output_type": "stream",
     "text": [
      "(07/48) CASMI2012: \n",
      "SMI\n",
      "(08/48) CASMI2016: \n",
      "SM\n",
      "(09/48) Chubu_Univ: \n",
      "UT\n"
     ]
    },
    {
     "name": "stderr",
     "output_type": "stream",
     "text": [
      "[WARNING] massbank2db.spectrum : (UT001356) Multiple compounds (n=2) matching the InChIKey (SLKDGVPOSSLUAI-UHFFFAOYSA-N). Taking the one with the lowest CID to update the compound information.\n",
      "[WARNING] massbank2db.spectrum : (UT001860) Multiple compounds (n=2) matching the InChIKey (LVNGJLRDBYCPGB-UHFFFAOYSA-N). Taking the one with the lowest CID to update the compound information.\n",
      "[WARNING] massbank2db.spectrum : (UT001122) Multiple compounds (n=2) matching the InChIKey (LVNGJLRDBYCPGB-UHFFFAOYSA-N). Taking the one with the lowest CID to update the compound information.\n",
      "[WARNING] massbank2db.spectrum : (UT002096) Multiple compounds (n=2) matching the InChIKey (SLKDGVPOSSLUAI-UHFFFAOYSA-N). Taking the one with the lowest CID to update the compound information.\n",
      "[WARNING] massbank2db.spectrum : (UT002592) Multiple compounds (n=2) matching the InChIKey (LVNGJLRDBYCPGB-UHFFFAOYSA-N). Taking the one with the lowest CID to update the compound information.\n",
      "[WARNING] massbank2db.spectrum : (UT002825) Multiple compounds (n=2) matching the InChIKey (SLKDGVPOSSLUAI-UHFFFAOYSA-N). Taking the one with the lowest CID to update the compound information.\n"
     ]
    },
    {
     "name": "stdout",
     "output_type": "stream",
     "text": [
      "(10/48) Eawag: \n",
      "EA\n",
      "EQ\n",
      "(11/48) Eawag_Additional_Specs: \n",
      "ET\n",
      "ETS\n",
      "(12/48) Env_Anal_Chem_U_Tuebingen: \n",
      "TUE\n"
     ]
    }
   ],
   "source": [
    "# Filename of the local PubChem DB\n",
    "pc_dbfn = \"/run/media/bach/EVO500GB/data/pubchem_24-06-2019/db/pubchem.sqlite\"\n",
    "\n",
    "with MassbankDB(mb_dbfn, pc_dbfn=pc_dbfn, use_pubchem_structure_info=True, only_ms2=True, only_with_rt=True) as mbdb:\n",
    "    for idx, row in mbds.iterrows():\n",
    "        print(\"(%02d/%02d) %s: \" % (idx + 1, len(mbds), row[\"Contributor\"]))\n",
    "        for pref in map(str.strip, row[\"AccPref\"].split(\",\")):\n",
    "            print(pref)\n",
    "            mbdb.insert_dataset(pref, row[\"Contributor\"], massbank_dir)\n",
    "            \n",
    "        if idx > 10:\n",
    "            break"
   ]
  }
 ],
 "metadata": {
  "kernelspec": {
   "display_name": "Python 3",
   "language": "python",
   "name": "python3"
  },
  "language_info": {
   "codemirror_mode": {
    "name": "ipython",
    "version": 3
   },
   "file_extension": ".py",
   "mimetype": "text/x-python",
   "name": "python",
   "nbconvert_exporter": "python",
   "pygments_lexer": "ipython3",
   "version": "3.8.5"
  }
 },
 "nbformat": 4,
 "nbformat_minor": 4
}
