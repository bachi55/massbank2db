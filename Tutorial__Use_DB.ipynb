{
 "cells": [
  {
   "cell_type": "code",
   "execution_count": 1,
   "metadata": {},
   "outputs": [],
   "source": [
    "%load_ext autoreload\n",
    "%autoreload 2"
   ]
  },
  {
   "cell_type": "code",
   "execution_count": 2,
   "metadata": {},
   "outputs": [],
   "source": [
    "import os\n",
    "import pandas as pd\n",
    "\n",
    "from massbank2db.db import MassbankDB\n",
    "from massbank2db.spectrum import MBSpectrum"
   ]
  },
  {
   "cell_type": "markdown",
   "metadata": {},
   "source": [
    "# Tutorial: Use a local copy of MassBank DB\n",
    "\n",
    "This tutorial illustrates possible usecases of a local MassBank DB and how those are supported by the ```massbank2db``` package.\n",
    "\n",
    "## Iterate over the Spectra of a Dataset\n",
    "\n",
    "Here we illustrate how the spectra (or MassBank entries) of a particular dataset can be iterated over. This might be usefull, when for example the spectra (including their meta-information, such as the molecular structure and the retention time (RT)) should be used to train a machine learning algorithm. \n",
    "\n",
    "### Individual Spectra"
   ]
  },
  {
   "cell_type": "code",
   "execution_count": 17,
   "metadata": {},
   "outputs": [
    {
     "name": "stdout",
     "output_type": "stream",
     "text": [
      "AU230360 mol=RRRXPPIDPYTNJG n_peaks=2\n",
      "AU240458 mol=SNGREZUHAYWORS n_peaks=8\n",
      "AU231159 mol=HTXMGVTWXZBZNC n_peaks=8\n",
      "AU233059 mol=OWZPCEFYPSAJFR n_peaks=52\n",
      "AU227657 mol=DJBNUMBKLMJRSA n_peaks=2\n",
      "AU225154 mol=RMMXLENWKUUMAY n_peaks=4\n",
      "AU218155 mol=ZQTNQVWKHCQYLQ n_peaks=5\n",
      "AU116751 mol=YJQPYGGHQPGBLI n_peaks=2\n",
      "AU235657 mol=RZEKVGVHFLEQIL n_peaks=4\n",
      "AU234359 mol=JLKIGFTWXXRPMT n_peaks=1\n"
     ]
    }
   ],
   "source": [
    "# We connect to the MassBank DB constructed in the 'Tutorial__Build_DB.ipynb'\n",
    "dbfn = \"massbank_example.sqlite\"\n",
    "with MassbankDB(dbfn) as mbdb: \n",
    "    for idx, (mol, spec, cands) in enumerate(mbdb.iter_spectra(dataset=\"AU_000\", grouped=False)):\n",
    "        \n",
    "        # For illustration purposes, we only load the first 10 spectra\n",
    "        if idx > 9:\n",
    "            break\n",
    "            \n",
    "        print(spec.get(\"accession\"), \"mol=%s\" % mol[3], \"n_peaks=%d\" % len(spec.get_mz()))"
   ]
  },
  {
   "cell_type": "markdown",
   "metadata": {},
   "source": [
    "### Group spectra corresponding to the same compound and setting\n",
    "\n",
    "MassBank contains spectra corresponding to the same compound, MS and LC configuration within one (contributor, accession-prefix)-tuple as separate files, e.g. if multiple collision energies where measured. In practice we can merge those spectra, for example to given them as input to a machine learning approach. The following SQLite query is used to group the spectra:\n",
    "```SQLite\n",
    "GROUP BY dataset, molecule, precursor_mz, precursor_type, fragmentation_mode\n",
    "```\n",
    "The dataset here also encodes the ionization mode, i.e. positive or negative ionization. The iterator can be modified to return the grouped spectra:"
   ]
  },
  {
   "cell_type": "code",
   "execution_count": 19,
   "metadata": {},
   "outputs": [
    {
     "name": "stdout",
     "output_type": "stream",
     "text": [
      "['AU230660', 'AU230659', 'AU230662', 'AU230658', 'AU230657'] mol=WIIZWVCIJKGZOK n_peaks=[3,6,10,12,19]\n",
      "['AU238262'] mol=YGSDEFSMJLZEOE n_peaks=[4]\n",
      "['AU229857', 'AU229858'] mol=BTJIUGUIPKRLHP n_peaks=[3,3]\n",
      "['AU230258', 'AU230259', 'AU230257'] mol=UFBJCMHMOXMLKC n_peaks=[7,5,4]\n",
      "['AU229360', 'AU229357', 'AU229358', 'AU229359', 'AU229362'] mol=UQVKZNNCIHJZLS n_peaks=[2,2,2,4,5]\n",
      "['AU228157', 'AU228159', 'AU228158', 'AU228112', 'AU228110', 'AU228111'] mol=GOEMGAFJFRBGGG n_peaks=[2,3,4,3,3,2]\n",
      "['AU311151'] mol=YASYVMFAVPKPKE n_peaks=[2]\n",
      "['AU231058', 'AU231057', 'AU231059', 'AU231060'] mol=FZEYVTFCMJSGMP n_peaks=[3,3,8,10]\n",
      "['AU231357', 'AU325853', 'AU325854', 'AU325852', 'AU231358', 'AU231360', 'AU231359', 'AU325851'] mol=ZOMSMJKLGFBRBS n_peaks=[7,4,2,6,18,10,18,3]\n",
      "['AU234957', 'AU234959', 'AU234960', 'AU234958'] mol=LKJPYSCBVHEWIU n_peaks=[8,13,8,9]\n"
     ]
    }
   ],
   "source": [
    "# We connect to the MassBank DB constructed in the 'Tutorial__Build_DB.ipynb'\n",
    "dbfn = \"massbank_example.sqlite\"\n",
    "with MassbankDB(dbfn) as mbdb: \n",
    "    for idx, (mol, specs, cands) in enumerate(mbdb.iter_spectra(dataset=\"AU_000\", grouped=True)):\n",
    "        \n",
    "        # For illustration purposes, we only load the first 10 spectra\n",
    "        if idx > 9:\n",
    "            break\n",
    "            \n",
    "        print([spec.get(\"accession\") for spec in specs], \"mol=%s\" % mol[3], \"n_peaks=[%s]\" % \",\".join([str(len(spec.get_mz())) for spec in specs]))"
   ]
  },
  {
   "cell_type": "markdown",
   "metadata": {},
   "source": [
    "### Retrive molecular candidates for the spectra\n",
    "\n",
    "For some applications it is useful to extract a molecular candidate for each spectrum. That is, a set of potential molecules, that could have been measured in the spectrum. There are two common approaches to get the set of molecular candidates:\n",
    "\n",
    "1. ```return_candidates=\"mf\"```: Using the ground-truth / predicted molecular formula of a spectrum\n",
    "2. ```return_candidates=\"mz\"```: Using a mass-window around the exact mass / precursor mass of a spectrum"
   ]
  },
  {
   "cell_type": "code",
   "execution_count": 53,
   "metadata": {},
   "outputs": [
    {
     "name": "stdout",
     "output_type": "stream",
     "text": [
      "['AU230660', 'AU230659', 'AU230662', 'AU230658', 'AU230657'] mol=WIIZWVCIJKGZOK n_peaks=[3,6,10,12,19] n_cand=84\n",
      "['AU238262'] mol=YGSDEFSMJLZEOE n_peaks=[4] n_cand=354\n",
      "['AU229857', 'AU229858'] mol=BTJIUGUIPKRLHP n_peaks=[3,3] n_cand=319\n",
      "['AU230258', 'AU230259', 'AU230257'] mol=UFBJCMHMOXMLKC n_peaks=[7,5,4] n_cand=108\n",
      "['AU229360', 'AU229357', 'AU229358', 'AU229359', 'AU229362'] mol=UQVKZNNCIHJZLS n_peaks=[2,2,2,4,5] n_cand=2989\n",
      "['AU228157', 'AU228159', 'AU228158', 'AU228112', 'AU228110', 'AU228111'] mol=GOEMGAFJFRBGGG n_peaks=[2,3,4,3,3,2] n_cand=5270\n",
      "['AU311151'] mol=YASYVMFAVPKPKE n_peaks=[2] n_cand=27\n",
      "['AU231058', 'AU231057', 'AU231059', 'AU231060'] mol=FZEYVTFCMJSGMP n_peaks=[3,3,8,10] n_cand=507\n",
      "['AU231357', 'AU325853', 'AU325854', 'AU325852', 'AU231358', 'AU231360', 'AU231359', 'AU325851'] mol=ZOMSMJKLGFBRBS n_peaks=[7,4,2,6,18,10,18,3] n_cand=2772\n",
      "['AU234957', 'AU234959', 'AU234960', 'AU234958'] mol=LKJPYSCBVHEWIU n_peaks=[8,13,8,9] n_cand=68\n",
      "\n",
      "Candidates are as Pandas DataFrame\n",
      "      cid                                              InChI  \\\n",
      "0    2541  InChI=1S/C24H20N6O3/c1-2-33-24-25-20-9-5-8-19(...   \n",
      "1  378575  InChI=1S/C24H20N6O3/c1-31-18-11-14(12-19(32-2)...   \n",
      "2  510933  InChI=1S/C24H20N6O3/c1-30-15-18(12-26)20-7-6-1...   \n",
      "3  510934  InChI=1S/C24H20N6O3/c1-30-15-17(12-26)19-8-7-1...   \n",
      "4  663954  InChI=1S/C24H20N6O3/c1-4-12-29-14-25-22-19(24(...   \n",
      "\n",
      "                      InChIKey  \\\n",
      "0  HTQMVQVXFRQIKW-UHFFFAOYSA-N   \n",
      "1  QPBDSPQARCBLHC-UHFFFAOYSA-N   \n",
      "2  NKFCJHISXSLJQD-UHFFFAOYSA-N   \n",
      "3  DAKWTXUIFNKMMO-UHFFFAOYSA-N   \n",
      "4  LXWWIOMXNQNSFF-UHFFFAOYSA-N   \n",
      "\n",
      "                                          SMILES_CAN  \\\n",
      "0  CCOC1=NC2=CC=CC(=C2N1CC3=CC=C(C=C3)C4=CC=CC=C4...   \n",
      "1  COC1=CC(=CC(=C1OC)OC)C=NNC2=NC3=C(C4=CC=CC=C4C...   \n",
      "2  CN1C=C(C2=C1C=C(C=C2)NC3=NC=C(O3)C4=CC(=CC=C4)...   \n",
      "3  CN1C=C(C2=C1C=C(C=C2)NC3=NC=C(O3)C4=CC=CC=C4CN...   \n",
      "4  COC1=CC=CC(=C1OC)C=NN2C3=C(C4=NC5=CC=CC=C5N=C4...   \n",
      "\n",
      "                                          SMILES_ISO  exact_mass  \\\n",
      "0  CCOC1=NC2=CC=CC(=C2N1CC3=CC=C(C=C3)C4=CC=CC=C4...      440.16   \n",
      "1  COC1=CC(=CC(=C1OC)OC)C=NNC2=NC3=C(C4=CC=CC=C4C...      440.16   \n",
      "2  CN1C=C(C2=C1C=C(C=C2)NC3=NC=C(O3)C4=CC(=CC=C4)...      440.16   \n",
      "3  CN1C=C(C2=C1C=C(C=C2)NC3=NC=C(O3)C4=CC=CC=C4CN...      440.16   \n",
      "4  COC1=CC=CC(=C1OC)C=NN2C3=C(C4=NC5=CC=CC=C5N=C4...      440.16   \n",
      "\n",
      "  molecular_formula  \n",
      "0        C24H20N6O3  \n",
      "1        C24H20N6O3  \n",
      "2        C24H20N6O3  \n",
      "3        C24H20N6O3  \n",
      "4        C24H20N6O3  \n"
     ]
    }
   ],
   "source": [
    "# We connect to the MassBank DB constructed in the 'Tutorial__Build_DB.ipynb'\n",
    "dbfn = \"massbank_example.sqlite\"\n",
    "pc_dbfn = \"/run/media/bach/EVO500GB/data/pubchem_24-06-2019/db/pubchem.sqlite\"\n",
    "with MassbankDB(dbfn, pc_dbfn=pc_dbfn) as mbdb: \n",
    "    for idx, (mol, specs, cands) in enumerate(mbdb.iter_spectra(dataset=\"AU_000\", grouped=True, return_candidates=\"mf\")):\n",
    "        \n",
    "        # For illustration purposes, we only load the first 10 spectra\n",
    "        if idx > 9:\n",
    "            break\n",
    "            \n",
    "        print([spec.get(\"accession\") for spec in specs], \"mol=%s\" % mol[3], \"n_peaks=[%s]\" % \",\".join([str(len(spec.get_mz())) for spec in specs]), \n",
    "              \"n_cand=%d\" % len(cands))\n",
    "\n",
    "print(\"\\nCandidates are as Pandas DataFrame\")\n",
    "print(cands.head())"
   ]
  },
  {
   "cell_type": "markdown",
   "metadata": {},
   "source": [
    "## Merge Spectra\n",
    "\n",
    "In the previous examples we have shown the support for spectra grouping. Sometimes it can be useful to merge the grouped spectra into one. For that, the peaks of all spectra are joint into one peak list. Subsequently, a hierarchical clustering is applied to group peaks that are belonging to the same fragment allowing a small mass-per-charge deviation. The retention times can also be merged, e.g. by taking the minimum retention time of all spectra. "
   ]
  },
  {
   "cell_type": "code",
   "execution_count": 52,
   "metadata": {},
   "outputs": [
    {
     "name": "stdout",
     "output_type": "stream",
     "text": [
      "NEW ID: AU879682 ORIGINAL IDs: ['AU230660', 'AU230659', 'AU230662', 'AU230658', 'AU230657'] mol=WIIZWVCIJKGZOK\n",
      "\t n_peaks (original)=[3,6,10,12,19] n_peaks (merged)=[27]\n",
      "\t RTs (original)=[5.668,5.699,5.677,5.677,5.69] RTs (merged)=[5.668000]\n",
      "NEW ID: AU484704 ORIGINAL IDs: ['AU238262'] mol=YGSDEFSMJLZEOE\n",
      "\t n_peaks (original)=[4] n_peaks (merged)=[4]\n",
      "\t RTs (original)=[3.637] RTs (merged)=[3.637000]\n",
      "NEW ID: AU352166 ORIGINAL IDs: ['AU229857', 'AU229858'] mol=BTJIUGUIPKRLHP\n",
      "\t n_peaks (original)=[3,3] n_peaks (merged)=[4]\n",
      "\t RTs (original)=[5.616,5.612] RTs (merged)=[5.612000]\n",
      "NEW ID: AU277224 ORIGINAL IDs: ['AU230258', 'AU230259', 'AU230257'] mol=UFBJCMHMOXMLKC\n",
      "\t n_peaks (original)=[7,5,4] n_peaks (merged)=[7]\n",
      "\t RTs (original)=[4.418,4.412,4.439] RTs (merged)=[4.412000]\n",
      "NEW ID: AU708189 ORIGINAL IDs: ['AU229360', 'AU229357', 'AU229358', 'AU229359', 'AU229362'] mol=UQVKZNNCIHJZLS\n",
      "\t n_peaks (original)=[2,2,2,4,5] n_peaks (merged)=[6]\n",
      "\t RTs (original)=[7.241,7.251,7.244,7.253,7.265] RTs (merged)=[7.241000]\n",
      "NEW ID: AU040545 ORIGINAL IDs: ['AU228157', 'AU228159', 'AU228158', 'AU228112', 'AU228110', 'AU228111'] mol=GOEMGAFJFRBGGG\n",
      "\t n_peaks (original)=[2,3,4,3,3,2] n_peaks (merged)=[7]\n",
      "\t RTs (original)=[4.982,4.98,4.997,4.98,4.973,4.966] RTs (merged)=[4.966000]\n",
      "NEW ID: AU670016 ORIGINAL IDs: ['AU311151'] mol=YASYVMFAVPKPKE\n",
      "\t n_peaks (original)=[2] n_peaks (merged)=[2]\n",
      "\t RTs (original)=[2.927] RTs (merged)=[2.927000]\n",
      "NEW ID: AU859017 ORIGINAL IDs: ['AU231058', 'AU231057', 'AU231059', 'AU231060'] mol=FZEYVTFCMJSGMP\n",
      "\t n_peaks (original)=[3,3,8,10] n_peaks (merged)=[11]\n",
      "\t RTs (original)=[6.924,6.961,6.929,6.956] RTs (merged)=[6.924000]\n",
      "NEW ID: AU544237 ORIGINAL IDs: ['AU231357', 'AU325853', 'AU325854', 'AU325852', 'AU231358', 'AU231360', 'AU231359', 'AU325851'] mol=ZOMSMJKLGFBRBS\n",
      "\t n_peaks (original)=[7,4,2,6,18,10,18,3] n_peaks (merged)=[25]\n",
      "\t RTs (original)=[4.466,4.155,4.139,4.155,4.441,4.474,4.45,4.148] RTs (merged)=[4.139000]\n",
      "NEW ID: AU726667 ORIGINAL IDs: ['AU234957', 'AU234959', 'AU234960', 'AU234958'] mol=LKJPYSCBVHEWIU\n",
      "\t n_peaks (original)=[8,13,8,9] n_peaks (merged)=[18]\n",
      "\t RTs (original)=[8.552,8.563,8.595,8.573] RTs (merged)=[8.552000]\n"
     ]
    }
   ],
   "source": [
    "# We connect to the MassBank DB constructed in the 'Tutorial__Build_DB.ipynb'\n",
    "dbfn = \"massbank_example.sqlite\"\n",
    "with MassbankDB(dbfn) as mbdb: \n",
    "    for idx, (mol, specs, cands) in enumerate(mbdb.iter_spectra(dataset=\"AU_000\", grouped=True)):\n",
    "        \n",
    "        # For illustration purposes, we only load the first 10 spectra\n",
    "        if idx > 9:\n",
    "            break\n",
    "\n",
    "        # Spectra peaks are merged into a single spectrum. \n",
    "        spec = MBSpectrum.merge_spectra(specs)\n",
    "            \n",
    "        print(\"NEW ID:\", spec.get(\"accession\"), \"ORIGINAL IDs:\", spec.get(\"original_accessions\"), \"mol=%s\" % mol[3]) \n",
    "        print(\"\\t\", \"n_peaks (original)=[%s]\" % \",\".join([str(len(spec.get_mz())) for spec in specs]), \"n_peaks (merged)=[%s]\" % len(spec.get_mz()))\n",
    "        print(\"\\t\", \"RTs (original)=[%s]\" % \",\".join([str(spec.get(\"retention_time\")) for spec in specs]), \"RTs (merged)=[%f]\" % spec.get(\"retention_time\"))"
   ]
  },
  {
   "cell_type": "markdown",
   "metadata": {},
   "source": [
    "## Convert Spectra into the MetFrag Format\n",
    "\n",
    "The library allows you to output the spectra in the format needed as input for MetFrag."
   ]
  },
  {
   "cell_type": "code",
   "execution_count": 54,
   "metadata": {},
   "outputs": [
    {
     "name": "stdout",
     "output_type": "stream",
     "text": [
      "============\n",
      "AU879682_peaks.csv\n",
      "------------\n",
      "45.992500\t0.179649\n",
      "82.946300\t0.061754\n",
      "121.029760\t1.000000\n",
      "122.031450\t0.111597\n",
      "122.036000\t0.056842\n",
      "148.038950\t0.138950\n",
      "151.027340\t1.000000\n",
      "152.034840\t1.000000\n",
      "153.037933\t0.135667\n",
      "159.028900\t0.058246\n",
      "159.034500\t0.041058\n",
      "166.015500\t0.067368\n",
      "176.034633\t0.239209\n",
      "177.040000\t0.050424\n",
      "179.046900\t0.033952\n",
      "194.045200\t0.534893\n",
      "195.049300\t0.077854\n",
      "219.038700\t0.052037\n",
      "221.054400\t0.039129\n",
      "237.055400\t0.087939\n",
      "249.050600\t0.188786\n",
      "257.033500\t0.738604\n",
      "258.037400\t0.106091\n",
      "259.027900\t0.230738\n",
      "321.003700\t0.971359\n",
      "322.007800\t0.170633\n",
      "323.002800\t0.641791\n",
      "============\n",
      "AU879682_config.txt\n",
      "------------\n",
      "LocalDatabasePath=/path/to/db/AU879682_cands.csv\n",
      "MaximumTreeDepth=2\n",
      "ConsiderHydrogenShifts=True\n",
      "MetFragDatabaseType=LocalInChI\n",
      "MetFragScoreWeights=1.0\n",
      "MetFragPreProcessingCandidateFilter=UnconnectedCompoundFilter,IsotopeFilter\n",
      "MetFragScoreTypes=FragmenterScore\n",
      "MetFragCandidateWriter=CSV\n",
      "FragmentPeakMatchAbsoluteMassDeviation=0.001000\n",
      "FragmentPeakMatchRelativeMassDeviation=5.000000\n",
      "ResultsPath=/path/to/results\n",
      "NumberThreads=4\n",
      "PrecursorIonMode=-1\n",
      "IsPositiveIonMode=False\n",
      "NeutralPrecursorMass=322.012\n",
      "SampleName=AU879682\n",
      "PeakListPath=/path/to/peaks/AU879682_peaks.csv\n",
      "============\n",
      "AU879682_cands.csv\n",
      "------------\n",
      "MonoisotopicMass|InChI|Identifier|InChIKey|MolecularFormula|InChIKey1|InChIKey2\n",
      "322.012|InChI=1S/C11H12Cl2N2O5/c12-10(13)11(18)14-8(5-16)9(17)6-1-3-7(4-2-6)15(19)20/h1-4,8-10,16-17H,5H2,(H,14,18)|298|WIIZWVCIJKGZOK-UHFFFAOYSA-N|C11H12Cl2N2O5|WIIZWVCIJKGZOK|UHFFFAOYSA\n",
      "322.012|InChI=1S/C11H12Cl2N2O5/c12-10(13)11(18)14-8(5-16)9(17)6-1-3-7(4-2-6)15(19)20/h1-4,8-10,16-17H,5H2,(H,14,18)/t8-,9-/m1/s1|5959|WIIZWVCIJKGZOK-RKDXNWHRSA-N|C11H12Cl2N2O5|WIIZWVCIJKGZOK|RKDXNWHRSA\n",
      "322.012|InChI=1S/C11H12Cl2N2O5/c12-10(13)11(18)14-8(5-16)9(17)6-1-3-7(4-2-6)15(19)20/h1-4,8-10,16-17H,5H2,(H,14,18)/t8-,9-/m0/s1|92099|WIIZWVCIJKGZOK-IUCAKERBSA-N|C11H12Cl2N2O5|WIIZWVCIJKGZOK|IUCAKERBSA\n",
      "322.012|InChI=1S/C11H12Cl2N2O5/c12-10(13)11(18)14-8(5-16)9(17)6-1-3-7(4-2-6)15(19)20/h1-4,8-10,16-17H,5H2,(H,14,18)/t8-,9+/m0/s1|146033|WIIZWVCIJKGZOK-DTWKUNHWSA-N|C11H12Cl2N2O5|WIIZWVCIJKGZOK|DTWKUNHWSA\n",
      "322.012|InChI=1S/C11H12Cl2N2O5/c12-10(13)11(18)14-8(5-16)9(17)6-1-3-7(4-2-6)15(19)20/h1-4,8-10,16-17H,5H2,(H,14,18)/t8-,9+/m1/s1|146034|WIIZWVCIJKGZOK-BDAKNGLRSA-N|C11H12Cl2N2O5|WIIZWVCIJKGZOK|BDAKNGLRSA\n",
      "\n"
     ]
    },
    {
     "name": "stderr",
     "output_type": "stream",
     "text": [
      "/home/bach/Documents/doctoral/projects/local_massbank_db/massbank2db/massbank2db/db.py:542: SettingWithCopyWarning: \n",
      "A value is trying to be set on a copy of a slice from a DataFrame.\n",
      "Try using .loc[row_indexer,col_indexer] = value instead\n",
      "\n",
      "See the caveats in the documentation: https://pandas.pydata.org/pandas-docs/stable/user_guide/indexing.html#returning-a-view-versus-a-copy\n",
      "  cands_out[\"InChIKey1\"] = cands_out[\"InChIKey\"].apply(lambda _r: _r.split(\"-\")[0])\n"
     ]
    }
   ],
   "source": [
    "# We connect to the MassBank DB constructed in the 'Tutorial__Build_DB.ipynb'\n",
    "dbfn = \"massbank_example.sqlite\"\n",
    "pc_dbfn = \"/run/media/bach/EVO500GB/data/pubchem_24-06-2019/db/pubchem.sqlite\"\n",
    "with MassbankDB(dbfn, pc_dbfn=pc_dbfn) as mbdb: \n",
    "    for idx, (mol, specs, cands) in enumerate(mbdb.iter_spectra(dataset=\"AU_000\", grouped=True, return_candidates=\"mf\")):\n",
    "        # Spectra peaks are merged into a single spectrum. \n",
    "        spec = MBSpectrum.merge_spectra(specs)\n",
    "        \n",
    "        # Output the merged spectrum in MetFrag format\n",
    "        metfrag_output = spec._to_metfrag_format(\n",
    "            **{\"MetFragScoreWeights\": [1.0],\n",
    "               \"MetFragScoreTypes\": [\"FragmenterScore\"],\n",
    "               \"LocalDatabasePath\": \"/path/to/db/\" + spec.get(\"accession\") + \"_cands.csv\",\n",
    "               \"ResultsPath\": \"/path/to/results\",\n",
    "               \"NumberThreads\": 4,\n",
    "               \"PeakListPath\": \"/path/to/peaks\"}\n",
    "        )\n",
    "        \n",
    "        for k, v in metfrag_output.items(): \n",
    "            print(\"============\")\n",
    "            print(k)\n",
    "            print(\"------------\")\n",
    "            print(v)\n",
    "        \n",
    "        # Output candidates in MetFrag format\n",
    "        print(\"============\")\n",
    "        print(spec.get(\"accession\") + \"_cands.csv\")\n",
    "        print(\"------------\")\n",
    "        print(MassbankDB._cands_to_metfrag_format(cands.head()))\n",
    "        \n",
    "        break"
   ]
  }
 ],
 "metadata": {
  "kernelspec": {
   "display_name": "Python 3",
   "language": "python",
   "name": "python3"
  },
  "language_info": {
   "codemirror_mode": {
    "name": "ipython",
    "version": 3
   },
   "file_extension": ".py",
   "mimetype": "text/x-python",
   "name": "python",
   "nbconvert_exporter": "python",
   "pygments_lexer": "ipython3",
   "version": "3.8.5"
  }
 },
 "nbformat": 4,
 "nbformat_minor": 4
}
