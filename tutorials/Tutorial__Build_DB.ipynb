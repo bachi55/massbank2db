{
 "cells": [
  {
   "cell_type": "code",
   "execution_count": 2,
   "metadata": {},
   "outputs": [
    {
     "name": "stdout",
     "output_type": "stream",
     "text": [
      "The autoreload extension is already loaded. To reload it, use:\n",
      "  %reload_ext autoreload\n"
     ]
    }
   ],
   "source": [
    "%load_ext autoreload\n",
    "%autoreload 2"
   ]
  },
  {
   "cell_type": "code",
   "execution_count": 3,
   "metadata": {},
   "outputs": [],
   "source": [
    "import os\n",
    "import pandas as pd\n",
    "\n",
    "from massbank2db.db import MassbankDB"
   ]
  },
  {
   "cell_type": "markdown",
   "metadata": {},
   "source": [
    "# Tutorial: Build a local copy of MassBank\n",
    "\n",
    "This tutorial illustrates how to use this package to build a local MassBank database (DB) using SQLite. \n",
    "\n",
    "## Preparation \n",
    "\n",
    "- Download the MassBank data, e.g. by cloning the [MassBank repository](https://github.com/MassBank/MassBank-data) from GitHub. \n",
    "- Build a local copy of PubChem using the [pubchem2sqlite package](https://github.com/bachi55/local_pubchem_db) **[optional]**\n",
    "  - to homogenouse the Massbank structure information using PubChem\n",
    "  - to retrieve molecular candidate sets for the MassBank spectra\n",
    "\n",
    "**Please note:** This tutorial uses a [fork of Massbank](https://github.com/bachi55/MassBank-data/tree/fix_entry_format) where minor formatting issues have been fixed.\n",
    "\n",
    "## General Concept\n",
    "\n",
    "MassBank organizes their datasets by contributors (sub-directories in the MassBank root-directory) and each contributor additionally into accession prefixes, such as EA, KW, etc. In the ```massbank2db``` package, each (contributor, accession-prefix)-tuple is considered to be a separate dataset. That means, MassBank entries (or records) are added in chunks encompassing all spectra of a certain (contributor, accession-prefix)-tuple.\n",
    "\n",
    "Furthermore, each chunk is divided into sub-datasets based on the mass-spectrometry (MS) (including the ionization mode / polarity) and (liquid-)chromatographic (LC) configuration. Ultimately, we add spectra grouped as different datasets using the following scheme: \n",
    "```\n",
    "Example:\n",
    "    (AU, Athens_Univ)\n",
    "        -> AU_000  ~ positive, LC configuration 1, MS instrument 1\n",
    "        -> AU_001  ~ positive, LC configuration 2, MS instrument 1\n",
    "        -> AU_002  ~ negative, LC configuration 3, MS instrument 1\n",
    "        -> AU_003  ~ negative, LC configuration 4, MS instrument 2\n",
    "        -> ... \n",
    "    ...\n",
    "    (PR, RIKEN)\n",
    "        -> PR_000  ~ positive, LC configuration 1, MS instrument 1\n",
    "        -> PR_001  ~ negative, LC configuration 1, MS instrument 1\n",
    "    ...\n",
    "```\n",
    "The motivation behind this approach is, that ```massbank2db``` originates from a project where MS/MS-spectrum *and* retention time (RT) information was supposed to be used to *jointly* train a machine learning approach for small molecule identification. As RTs are not (directly) compareable between LC configurations, the spectra where grouped such that RT compareability was maximized within one dataset. The following SQLite statement was used to group MassBank entries associated with an (contributor accession-prefix)-tuple:\n",
    "```sql\n",
    "GROUP BY ion_mode, instrument, instrument_type, column_name, column_temperature, flow_gradient, flow_rate, solvent_A, solvent_B\n",
    "```\n",
    "\n",
    "However, nothing prevents the user from loading all spectra and RTs without considering the grouping imposed by the dataset."
   ]
  },
  {
   "cell_type": "markdown",
   "metadata": {},
   "source": [
    "## Building the Database\n",
    "\n",
    "First we get the list (contributors, accession-prefix)-tuples:"
   ]
  },
  {
   "cell_type": "code",
   "execution_count": 7,
   "metadata": {},
   "outputs": [
    {
     "data": {
      "text/plain": "        Contributor AccPref\n0           ACES_SU      AS\n1              AAFC      AC\n2       Athens_Univ      AU\n3        BGC_Munich      RP\n4  Boise_State_Univ     BSU",
      "text/html": "<div>\n<style scoped>\n    .dataframe tbody tr th:only-of-type {\n        vertical-align: middle;\n    }\n\n    .dataframe tbody tr th {\n        vertical-align: top;\n    }\n\n    .dataframe thead th {\n        text-align: right;\n    }\n</style>\n<table border=\"1\" class=\"dataframe\">\n  <thead>\n    <tr style=\"text-align: right;\">\n      <th></th>\n      <th>Contributor</th>\n      <th>AccPref</th>\n    </tr>\n  </thead>\n  <tbody>\n    <tr>\n      <th>0</th>\n      <td>ACES_SU</td>\n      <td>AS</td>\n    </tr>\n    <tr>\n      <th>1</th>\n      <td>AAFC</td>\n      <td>AC</td>\n    </tr>\n    <tr>\n      <th>2</th>\n      <td>Athens_Univ</td>\n      <td>AU</td>\n    </tr>\n    <tr>\n      <th>3</th>\n      <td>BGC_Munich</td>\n      <td>RP</td>\n    </tr>\n    <tr>\n      <th>4</th>\n      <td>Boise_State_Univ</td>\n      <td>BSU</td>\n    </tr>\n  </tbody>\n</table>\n</div>"
     },
     "execution_count": 7,
     "metadata": {},
     "output_type": "execute_result"
    }
   ],
   "source": [
    "massbank_dir = \"/home/bach/Documents/doctoral/data/MassBank-data_bachi55\"\n",
    "mbds = pd.read_csv(os.path.join(massbank_dir, \"List_of_Contributors_Prefixes_and_Projects.md\"),\n",
    "                   sep=\"|\", skiprows=2, header=None) \\\n",
    "    .iloc[:, [1, 4]] \\\n",
    "    .applymap(str.strip) \\\n",
    "    .rename({1: \"Contributor\", 4: \"AccPref\"}, axis=1)  # type: pd.DataFrame\n",
    "\n",
    "mbds.head()"
   ]
  },
  {
   "cell_type": "markdown",
   "metadata": {},
   "source": [
    "Than we initialize the MassBank DB tables:"
   ]
  },
  {
   "cell_type": "code",
   "execution_count": 8,
   "metadata": {},
   "outputs": [],
   "source": [
    "mb_dbfn = \"massbank_example.sqlite\"\n",
    "with MassbankDB(mb_dbfn) as mbdb:\n",
    "    mbdb.initialize_tables(reset=True)"
   ]
  },
  {
   "cell_type": "markdown",
   "metadata": {},
   "source": [
    "Now we can insert the MassBank entries into the DB. We are using three options of the ```insert_dataset``` function, that will be further explained:\n",
    "- ```use_pubchem_structure_info```: If True, the PubChem CIDs (if available) or the InChIKeys provided in the MassBank entries are used to query the compound structure information from PubChem and replace the information from MassBank with the ones from PubChem. In this way, we can ensure all SMILES structure representations have been determined using the same procedure (by PubChem). This is particularly relevant, if molecular descriptors or fingerprints should be calculated from the structures. (See also: https://jcheminf.biomedcentral.com/articles/10.1186/s13321-018-0293-8)\n",
    "- ```only_ms2```: If True, the DB will only contain MS/MS spectra (determined by ```AC$MASS_SPECTROMETRY: MS_TYPE MS2```). TODO: Currently, this also filters isotope pattern spectra, which might be useful in some applications. \n",
    "- ```only_with_rt```: If True, only spectra with retention time information are included in the DB."
   ]
  },
  {
   "cell_type": "code",
   "execution_count": 10,
   "metadata": {},
   "outputs": [
    {
     "name": "stderr",
     "output_type": "stream",
     "text": [
      "warning: PYDEVD_USE_CYTHON environment variable is set to 'NO'. Frame evaluator will be also disabled because it requires Cython extensions to be enabled in order to operate correctly.\n"
     ]
    },
    {
     "name": "stdout",
     "output_type": "stream",
     "text": [
      "(01/48) ACES_SU: \n",
      "AS\n",
      "(02/48) AAFC: \n",
      "AC\n"
     ]
    },
    {
     "ename": "KeyboardInterrupt",
     "evalue": "",
     "output_type": "error",
     "traceback": [
      "\u001B[0;31m---------------------------------------------------------------------------\u001B[0m",
      "\u001B[0;31mKeyboardInterrupt\u001B[0m                         Traceback (most recent call last)",
      "\u001B[0;32m<ipython-input-10-13a9d5b0cb17>\u001B[0m in \u001B[0;36m<module>\u001B[0;34m\u001B[0m\n\u001B[1;32m      8\u001B[0m         \u001B[0;32mfor\u001B[0m \u001B[0mpref\u001B[0m \u001B[0;32min\u001B[0m \u001B[0mmap\u001B[0m\u001B[0;34m(\u001B[0m\u001B[0mstr\u001B[0m\u001B[0;34m.\u001B[0m\u001B[0mstrip\u001B[0m\u001B[0;34m,\u001B[0m \u001B[0mrow\u001B[0m\u001B[0;34m[\u001B[0m\u001B[0;34m\"AccPref\"\u001B[0m\u001B[0;34m]\u001B[0m\u001B[0;34m.\u001B[0m\u001B[0msplit\u001B[0m\u001B[0;34m(\u001B[0m\u001B[0;34m\",\"\u001B[0m\u001B[0;34m)\u001B[0m\u001B[0;34m)\u001B[0m\u001B[0;34m:\u001B[0m\u001B[0;34m\u001B[0m\u001B[0;34m\u001B[0m\u001B[0m\n\u001B[1;32m      9\u001B[0m             \u001B[0mprint\u001B[0m\u001B[0;34m(\u001B[0m\u001B[0mpref\u001B[0m\u001B[0;34m)\u001B[0m\u001B[0;34m\u001B[0m\u001B[0;34m\u001B[0m\u001B[0m\n\u001B[0;32m---> 10\u001B[0;31m             mbdb.insert_dataset(pref, row[\"Contributor\"], massbank_dir, \n\u001B[0m\u001B[1;32m     11\u001B[0m                                 \u001B[0mpc_dbfn\u001B[0m\u001B[0;34m=\u001B[0m\u001B[0mpc_dbfn\u001B[0m\u001B[0;34m,\u001B[0m\u001B[0;34m\u001B[0m\u001B[0;34m\u001B[0m\u001B[0m\n\u001B[1;32m     12\u001B[0m                                 \u001B[0muse_pubchem_structure_info\u001B[0m\u001B[0;34m=\u001B[0m\u001B[0;32mFalse\u001B[0m\u001B[0;34m,\u001B[0m\u001B[0;34m\u001B[0m\u001B[0;34m\u001B[0m\u001B[0m\n",
      "\u001B[0;32m~/Documents/doctoral/projects/massbank2db/massbank2db/db.py\u001B[0m in \u001B[0;36minsert_dataset\u001B[0;34m(self, accession_prefix, contributor, base_path, only_with_rt, only_ms2, use_pubchem_structure_info, pc_dbfn, min_number_of_unique_compounds_per_dataset, exclude_deprecated)\u001B[0m\n\u001B[1;32m    278\u001B[0m                 \u001B[0;32mtry\u001B[0m\u001B[0;34m:\u001B[0m\u001B[0;34m\u001B[0m\u001B[0;34m\u001B[0m\u001B[0m\n\u001B[1;32m    279\u001B[0m                     \u001B[0;32mwith\u001B[0m \u001B[0mself\u001B[0m\u001B[0;34m.\u001B[0m\u001B[0m_mb_conn\u001B[0m\u001B[0;34m:\u001B[0m\u001B[0;34m\u001B[0m\u001B[0;34m\u001B[0m\u001B[0m\n\u001B[0;32m--> 280\u001B[0;31m                         \u001B[0mself\u001B[0m\u001B[0;34m.\u001B[0m\u001B[0minsert_spectrum\u001B[0m\u001B[0;34m(\u001B[0m\u001B[0mdataset_identifier\u001B[0m\u001B[0;34m,\u001B[0m \u001B[0mcontributor\u001B[0m\u001B[0;34m,\u001B[0m \u001B[0mspecs\u001B[0m\u001B[0;34m[\u001B[0m\u001B[0macc\u001B[0m\u001B[0;34m]\u001B[0m\u001B[0;34m)\u001B[0m\u001B[0;34m\u001B[0m\u001B[0;34m\u001B[0m\u001B[0m\n\u001B[0m\u001B[1;32m    281\u001B[0m                 \u001B[0;32mexcept\u001B[0m \u001B[0msqlite3\u001B[0m\u001B[0;34m.\u001B[0m\u001B[0mIntegrityError\u001B[0m \u001B[0;32mas\u001B[0m \u001B[0merr\u001B[0m\u001B[0;34m:\u001B[0m\u001B[0;34m\u001B[0m\u001B[0;34m\u001B[0m\u001B[0m\n\u001B[1;32m    282\u001B[0m                     \u001B[0mLOGGER\u001B[0m\u001B[0;34m.\u001B[0m\u001B[0merror\u001B[0m\u001B[0;34m(\u001B[0m\u001B[0;34m\"({}) SQLite integrity error: {}\"\u001B[0m\u001B[0;34m.\u001B[0m\u001B[0mformat\u001B[0m\u001B[0;34m(\u001B[0m\u001B[0macc\u001B[0m\u001B[0;34m,\u001B[0m \u001B[0merr\u001B[0m\u001B[0;34m)\u001B[0m\u001B[0;34m)\u001B[0m\u001B[0;34m\u001B[0m\u001B[0;34m\u001B[0m\u001B[0m\n",
      "\u001B[0;32m~/Documents/doctoral/projects/massbank2db/massbank2db/db.py\u001B[0m in \u001B[0;36minsert_spectrum\u001B[0;34m(self, dataset_identifier, contributor, spectrum)\u001B[0m\n\u001B[1;32m    305\u001B[0m         \u001B[0;31m# Insert Molecule Information\u001B[0m\u001B[0;34m\u001B[0m\u001B[0;34m\u001B[0m\u001B[0;34m\u001B[0m\u001B[0m\n\u001B[1;32m    306\u001B[0m         \u001B[0;31m# ===========================\u001B[0m\u001B[0;34m\u001B[0m\u001B[0;34m\u001B[0m\u001B[0;34m\u001B[0m\u001B[0m\n\u001B[0;32m--> 307\u001B[0;31m         self._mb_conn.execute(\"INSERT OR IGNORE INTO molecules VALUES (%s)\" % self._get_db_value_placeholders(9),\n\u001B[0m\u001B[1;32m    308\u001B[0m                               (\n\u001B[1;32m    309\u001B[0m                                    \u001B[0mspectrum\u001B[0m\u001B[0;34m.\u001B[0m\u001B[0mget\u001B[0m\u001B[0;34m(\u001B[0m\u001B[0;34m\"pubchem_id\"\u001B[0m\u001B[0;34m)\u001B[0m\u001B[0;34m,\u001B[0m\u001B[0;34m\u001B[0m\u001B[0;34m\u001B[0m\u001B[0m\n",
      "\u001B[0;32m~/Documents/doctoral/projects/massbank2db/massbank2db/db.py\u001B[0m in \u001B[0;36minsert_spectrum\u001B[0;34m(self, dataset_identifier, contributor, spectrum)\u001B[0m\n\u001B[1;32m    305\u001B[0m         \u001B[0;31m# Insert Molecule Information\u001B[0m\u001B[0;34m\u001B[0m\u001B[0;34m\u001B[0m\u001B[0;34m\u001B[0m\u001B[0m\n\u001B[1;32m    306\u001B[0m         \u001B[0;31m# ===========================\u001B[0m\u001B[0;34m\u001B[0m\u001B[0;34m\u001B[0m\u001B[0;34m\u001B[0m\u001B[0m\n\u001B[0;32m--> 307\u001B[0;31m         self._mb_conn.execute(\"INSERT OR IGNORE INTO molecules VALUES (%s)\" % self._get_db_value_placeholders(9),\n\u001B[0m\u001B[1;32m    308\u001B[0m                               (\n\u001B[1;32m    309\u001B[0m                                    \u001B[0mspectrum\u001B[0m\u001B[0;34m.\u001B[0m\u001B[0mget\u001B[0m\u001B[0;34m(\u001B[0m\u001B[0;34m\"pubchem_id\"\u001B[0m\u001B[0;34m)\u001B[0m\u001B[0;34m,\u001B[0m\u001B[0;34m\u001B[0m\u001B[0;34m\u001B[0m\u001B[0m\n",
      "\u001B[0;32m~/.AUR/pycharm-2020.3.2/plugins/python/helpers/pydev/_pydevd_bundle/pydevd_frame.py\u001B[0m in \u001B[0;36mtrace_dispatch\u001B[0;34m(self, frame, event, arg)\u001B[0m\n\u001B[1;32m    745\u001B[0m                 \u001B[0;31m# if thread has a suspend flag, we suspend with a busy wait\u001B[0m\u001B[0;34m\u001B[0m\u001B[0;34m\u001B[0m\u001B[0;34m\u001B[0m\u001B[0m\n\u001B[1;32m    746\u001B[0m                 \u001B[0;32mif\u001B[0m \u001B[0minfo\u001B[0m\u001B[0;34m.\u001B[0m\u001B[0mpydev_state\u001B[0m \u001B[0;34m==\u001B[0m \u001B[0mSTATE_SUSPEND\u001B[0m\u001B[0;34m:\u001B[0m\u001B[0;34m\u001B[0m\u001B[0;34m\u001B[0m\u001B[0m\n\u001B[0;32m--> 747\u001B[0;31m                     \u001B[0mself\u001B[0m\u001B[0;34m.\u001B[0m\u001B[0mdo_wait_suspend\u001B[0m\u001B[0;34m(\u001B[0m\u001B[0mthread\u001B[0m\u001B[0;34m,\u001B[0m \u001B[0mframe\u001B[0m\u001B[0;34m,\u001B[0m \u001B[0mevent\u001B[0m\u001B[0;34m,\u001B[0m \u001B[0marg\u001B[0m\u001B[0;34m)\u001B[0m\u001B[0;34m\u001B[0m\u001B[0;34m\u001B[0m\u001B[0m\n\u001B[0m\u001B[1;32m    748\u001B[0m                     \u001B[0;31m# No need to reset frame.f_trace to keep the same trace function.\u001B[0m\u001B[0;34m\u001B[0m\u001B[0;34m\u001B[0m\u001B[0;34m\u001B[0m\u001B[0m\n\u001B[1;32m    749\u001B[0m                     \u001B[0;32mreturn\u001B[0m \u001B[0mself\u001B[0m\u001B[0;34m.\u001B[0m\u001B[0mtrace_dispatch\u001B[0m\u001B[0;34m\u001B[0m\u001B[0;34m\u001B[0m\u001B[0m\n",
      "\u001B[0;32m~/.AUR/pycharm-2020.3.2/plugins/python/helpers/pydev/_pydevd_bundle/pydevd_frame.py\u001B[0m in \u001B[0;36mdo_wait_suspend\u001B[0;34m(self, *args, **kwargs)\u001B[0m\n\u001B[1;32m    142\u001B[0m \u001B[0;34m\u001B[0m\u001B[0m\n\u001B[1;32m    143\u001B[0m     \u001B[0;32mdef\u001B[0m \u001B[0mdo_wait_suspend\u001B[0m\u001B[0;34m(\u001B[0m\u001B[0mself\u001B[0m\u001B[0;34m,\u001B[0m \u001B[0;34m*\u001B[0m\u001B[0margs\u001B[0m\u001B[0;34m,\u001B[0m \u001B[0;34m**\u001B[0m\u001B[0mkwargs\u001B[0m\u001B[0;34m)\u001B[0m\u001B[0;34m:\u001B[0m\u001B[0;34m\u001B[0m\u001B[0;34m\u001B[0m\u001B[0m\n\u001B[0;32m--> 144\u001B[0;31m         \u001B[0mself\u001B[0m\u001B[0;34m.\u001B[0m\u001B[0m_args\u001B[0m\u001B[0;34m[\u001B[0m\u001B[0;36m0\u001B[0m\u001B[0;34m]\u001B[0m\u001B[0;34m.\u001B[0m\u001B[0mdo_wait_suspend\u001B[0m\u001B[0;34m(\u001B[0m\u001B[0;34m*\u001B[0m\u001B[0margs\u001B[0m\u001B[0;34m,\u001B[0m \u001B[0;34m**\u001B[0m\u001B[0mkwargs\u001B[0m\u001B[0;34m)\u001B[0m\u001B[0;34m\u001B[0m\u001B[0;34m\u001B[0m\u001B[0m\n\u001B[0m\u001B[1;32m    145\u001B[0m \u001B[0;34m\u001B[0m\u001B[0m\n\u001B[1;32m    146\u001B[0m     \u001B[0;31m# IFDEF CYTHON\u001B[0m\u001B[0;34m\u001B[0m\u001B[0;34m\u001B[0m\u001B[0;34m\u001B[0m\u001B[0m\n",
      "\u001B[0;32m~/.AUR/pycharm-2020.3.2/plugins/python/helpers/pydev/pydevd.py\u001B[0m in \u001B[0;36mdo_wait_suspend\u001B[0;34m(self, thread, frame, event, arg, send_suspend_message, is_unhandled_exception)\u001B[0m\n\u001B[1;32m   1139\u001B[0m \u001B[0;34m\u001B[0m\u001B[0m\n\u001B[1;32m   1140\u001B[0m         \u001B[0;32mwith\u001B[0m \u001B[0mself\u001B[0m\u001B[0;34m.\u001B[0m\u001B[0m_threads_suspended_single_notification\u001B[0m\u001B[0;34m.\u001B[0m\u001B[0mnotify_thread_suspended\u001B[0m\u001B[0;34m(\u001B[0m\u001B[0mthread_id\u001B[0m\u001B[0;34m,\u001B[0m \u001B[0mstop_reason\u001B[0m\u001B[0;34m)\u001B[0m\u001B[0;34m:\u001B[0m\u001B[0;34m\u001B[0m\u001B[0;34m\u001B[0m\u001B[0m\n\u001B[0;32m-> 1141\u001B[0;31m             \u001B[0mself\u001B[0m\u001B[0;34m.\u001B[0m\u001B[0m_do_wait_suspend\u001B[0m\u001B[0;34m(\u001B[0m\u001B[0mthread\u001B[0m\u001B[0;34m,\u001B[0m \u001B[0mframe\u001B[0m\u001B[0;34m,\u001B[0m \u001B[0mevent\u001B[0m\u001B[0;34m,\u001B[0m \u001B[0marg\u001B[0m\u001B[0;34m,\u001B[0m \u001B[0msuspend_type\u001B[0m\u001B[0;34m,\u001B[0m \u001B[0mfrom_this_thread\u001B[0m\u001B[0;34m)\u001B[0m\u001B[0;34m\u001B[0m\u001B[0;34m\u001B[0m\u001B[0m\n\u001B[0m\u001B[1;32m   1142\u001B[0m \u001B[0;34m\u001B[0m\u001B[0m\n\u001B[1;32m   1143\u001B[0m     \u001B[0;32mdef\u001B[0m \u001B[0m_do_wait_suspend\u001B[0m\u001B[0;34m(\u001B[0m\u001B[0mself\u001B[0m\u001B[0;34m,\u001B[0m \u001B[0mthread\u001B[0m\u001B[0;34m,\u001B[0m \u001B[0mframe\u001B[0m\u001B[0;34m,\u001B[0m \u001B[0mevent\u001B[0m\u001B[0;34m,\u001B[0m \u001B[0marg\u001B[0m\u001B[0;34m,\u001B[0m \u001B[0msuspend_type\u001B[0m\u001B[0;34m,\u001B[0m \u001B[0mfrom_this_thread\u001B[0m\u001B[0;34m)\u001B[0m\u001B[0;34m:\u001B[0m\u001B[0;34m\u001B[0m\u001B[0;34m\u001B[0m\u001B[0m\n",
      "\u001B[0;32m~/.AUR/pycharm-2020.3.2/plugins/python/helpers/pydev/pydevd.py\u001B[0m in \u001B[0;36m_do_wait_suspend\u001B[0;34m(self, thread, frame, event, arg, suspend_type, from_this_thread)\u001B[0m\n\u001B[1;32m   1154\u001B[0m \u001B[0;34m\u001B[0m\u001B[0m\n\u001B[1;32m   1155\u001B[0m                 \u001B[0mself\u001B[0m\u001B[0;34m.\u001B[0m\u001B[0mprocess_internal_commands\u001B[0m\u001B[0;34m(\u001B[0m\u001B[0;34m)\u001B[0m\u001B[0;34m\u001B[0m\u001B[0;34m\u001B[0m\u001B[0m\n\u001B[0;32m-> 1156\u001B[0;31m                 \u001B[0mtime\u001B[0m\u001B[0;34m.\u001B[0m\u001B[0msleep\u001B[0m\u001B[0;34m(\u001B[0m\u001B[0;36m0.01\u001B[0m\u001B[0;34m)\u001B[0m\u001B[0;34m\u001B[0m\u001B[0;34m\u001B[0m\u001B[0m\n\u001B[0m\u001B[1;32m   1157\u001B[0m \u001B[0;34m\u001B[0m\u001B[0m\n\u001B[1;32m   1158\u001B[0m         \u001B[0mself\u001B[0m\u001B[0;34m.\u001B[0m\u001B[0mcancel_async_evaluation\u001B[0m\u001B[0;34m(\u001B[0m\u001B[0mget_current_thread_id\u001B[0m\u001B[0;34m(\u001B[0m\u001B[0mthread\u001B[0m\u001B[0;34m)\u001B[0m\u001B[0;34m,\u001B[0m \u001B[0mstr\u001B[0m\u001B[0;34m(\u001B[0m\u001B[0mid\u001B[0m\u001B[0;34m(\u001B[0m\u001B[0mframe\u001B[0m\u001B[0;34m)\u001B[0m\u001B[0;34m)\u001B[0m\u001B[0;34m)\u001B[0m\u001B[0;34m\u001B[0m\u001B[0;34m\u001B[0m\u001B[0m\n",
      "\u001B[0;31mKeyboardInterrupt\u001B[0m: "
     ]
    }
   ],
   "source": [
    "# Filename of the local PubChem DB\n",
    "pc_dbfn = \"/run/media/bach/EVO500GB/data/pubchem_24-06-2019/db/pubchem.sqlite\"\n",
    "\n",
    "with MassbankDB(mb_dbfn) as mbdb:\n",
    "    for idx, row in mbds.iterrows():\n",
    "        print(\"(%02d/%02d) %s: \" % (idx + 1, len(mbds), row[\"Contributor\"]))\n",
    "        for pref in map(str.strip, row[\"AccPref\"].split(\",\")):\n",
    "            print(pref)\n",
    "            mbdb.insert_dataset(pref, row[\"Contributor\"], massbank_dir, \n",
    "                                pc_dbfn=pc_dbfn,\n",
    "                                use_pubchem_structure_info=False,\n",
    "                                only_ms2=True,\n",
    "                                only_with_rt=True)"
   ]
  },
  {
   "cell_type": "code",
   "execution_count": null,
   "metadata": {},
   "outputs": [],
   "source": []
  }
 ],
 "metadata": {
  "kernelspec": {
   "display_name": "Python 3",
   "language": "python",
   "name": "python3"
  },
  "language_info": {
   "codemirror_mode": {
    "name": "ipython",
    "version": 3
   },
   "file_extension": ".py",
   "mimetype": "text/x-python",
   "name": "python",
   "nbconvert_exporter": "python",
   "pygments_lexer": "ipython3",
   "version": "3.8.5"
  }
 },
 "nbformat": 4,
 "nbformat_minor": 4
}